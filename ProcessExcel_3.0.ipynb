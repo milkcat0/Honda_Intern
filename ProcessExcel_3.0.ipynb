{
 "cells": [
  {
   "cell_type": "code",
   "execution_count": 1,
   "metadata": {},
   "outputs": [],
   "source": [
    "import openpyxl\n",
    "import xlrd"
   ]
  },
  {
   "cell_type": "code",
   "execution_count": 2,
   "metadata": {},
   "outputs": [],
   "source": [
    "change_log_rev_coloum = 2  # The colomn of `Rev#`` of `Change Log`."
   ]
  },
  {
   "cell_type": "code",
   "execution_count": 3,
   "metadata": {},
   "outputs": [],
   "source": [
    "change_log_what_changed_coloum = 6  # The colomn of `What Changed` of `Change Log`."
   ]
  },
  {
   "cell_type": "code",
   "execution_count": 4,
   "metadata": {},
   "outputs": [],
   "source": [
    "change_log_who_coloum = 4  # The colomn of `Who` of `Change Log`."
   ]
  },
  {
   "cell_type": "code",
   "execution_count": 5,
   "metadata": {},
   "outputs": [],
   "source": [
    "job_start_coloum = 7  # The colomn where the `job` attribute starts."
   ]
  },
  {
   "cell_type": "code",
   "execution_count": 6,
   "metadata": {},
   "outputs": [],
   "source": [
    "part_name_coloum = 2  # The colomn of `part name`"
   ]
  },
  {
   "cell_type": "code",
   "execution_count": 7,
   "metadata": {},
   "outputs": [],
   "source": [
    "part_number_coloum = 3  # The colomn of `part number`"
   ]
  },
  {
   "cell_type": "code",
   "execution_count": 8,
   "metadata": {},
   "outputs": [],
   "source": [
    "tool_count_coloum = [5, 6]  # The colomn of `tool count`"
   ]
  },
  {
   "cell_type": "code",
   "execution_count": 9,
   "metadata": {},
   "outputs": [],
   "source": [
    "tool_coloum = 4  # The colomn of `tool`"
   ]
  },
  {
   "cell_type": "code",
   "execution_count": 10,
   "metadata": {},
   "outputs": [],
   "source": [
    "# To handle merged cells, use this function for all read operation. \n",
    "def get_cell_value(sheet, row_index, col_index):\n",
    "    cell_value = sheet.cell(row_index, col_index).value\n",
    "    for r in sheet.merged_cells.ranges:\n",
    "        rlow = r.min_row\n",
    "        rhigh = r.max_row\n",
    "        clow = r.min_col\n",
    "        chigh = r.max_col\n",
    "        if (row_index >= rlow and row_index <= rhigh and col_index >= clow and col_index <= chigh):\n",
    "            cell_value = sheet.cell(rlow, clow).value\n",
    "            break\n",
    "            \n",
    "    if cell_value is None:\n",
    "        cell_value = ''\n",
    "    return cell_value"
   ]
  },
  {
   "cell_type": "code",
   "execution_count": 11,
   "metadata": {},
   "outputs": [],
   "source": [
    "def get_cell_note(sheet, row_index, col_index):\n",
    "    note = None\n",
    "    if sheet.cell(row_index, col_index).comment:\n",
    "        note = sheet.cell(row_index, col_index).comment.text\n",
    "    if note is None:\n",
    "        for r in sheet.merged_cells.ranges:\n",
    "            rlow = r.min_row\n",
    "            rhigh = r.max_row\n",
    "            clow = r.min_col\n",
    "            chigh = r.max_col\n",
    "            if (row_index >= rlow and row_index <= rhigh and col_index >= clow and col_index <= chigh):\n",
    "                if sheet.cell(rlow, clow).comment:\n",
    "                    note = sheet.cell(rlow, clow).comment.text\n",
    "                    break\n",
    "    if note is None:\n",
    "        note = ''\n",
    "    return note"
   ]
  },
  {
   "cell_type": "code",
   "execution_count": 12,
   "metadata": {},
   "outputs": [],
   "source": [
    "def fill(r_row, w_row, r_sheet, r_header, w_sheet, w_header, section_index, section_start_row, section_end_row):\n",
    "\n",
    "    for c in range(job_start_coloum, len(r_header) + 1):\n",
    "        # If maker is empty, skip this row\n",
    "        maker = get_cell_value(r_sheet, r_row, c)\n",
    "        if maker == '':\n",
    "            continue\n",
    "        \n",
    "        # If the first three columns are empty, skip this row\n",
    "        part_name = get_cell_value(r_sheet, r_row, part_name_coloum)\n",
    "        part_number = get_cell_value(r_sheet, r_row, part_number_coloum)\n",
    "        tool = get_cell_value(r_sheet, r_row, tool_coloum)\n",
    "        if part_name == '' and part_number == '' and tool == '':\n",
    "            break\n",
    " \n",
    "        job_family = get_cell_value(r_sheet, section_start_row[section_index]-1, c)\n",
    "        w_sheet.cell(w_row, w_header.index('job_family') + 1).value = job_family\n",
    "\n",
    "        # change tool if job_family in 'Blank Die' or 'Fixtures' or 'Plates' or 'Jigs'\n",
    "        if 'Blank Die' in job_family:\n",
    "            w_sheet.cell(w_row, w_header.index('tool') + 1).value = 'Blanker'\n",
    "        elif 'Fixtures' in job_family:\n",
    "            w_sheet.cell(w_row, w_header.index('tool') + 1).value = 'Fixture'\n",
    "        elif 'Plates'  in job_family:\n",
    "            w_sheet.cell(w_row, w_header.index('tool') + 1).value = tool + '_Plates'\n",
    "        elif 'Jigs' in job_family:\n",
    "            w_sheet.cell(w_row, w_header.index('tool') + 1).value = tool + '_Jigs'\n",
    "        else:\n",
    "            w_sheet.cell(w_row, w_header.index('tool') + 1).value = tool\n",
    "        \n",
    "        # Fill in fixed values.\n",
    "        w_sheet.cell(w_row, w_header.index('vehicle_my') + 1).value = vehicle_my\n",
    "        w_sheet.cell(w_row, w_header.index('vehicle_name') + 1).value = vehicle_name\n",
    "        w_sheet.cell(w_row, w_header.index('vehicle_prog_type') + 1).value = vehicle_prog_type\n",
    "        w_sheet.cell(w_row, w_header.index('vehicle_seq') + 1).value = vehicle_seq\n",
    "        w_sheet.cell(w_row, w_header.index('vehicle_dev_source') + 1).value = vehicle_dev_source\n",
    "        w_sheet.cell(w_row, w_header.index('plant') + 1).value = plant\n",
    "        w_sheet.cell(w_row, w_header.index('rev') + 1).value = rev\n",
    "        w_sheet.cell(w_row, w_header.index('rev_date') + 1).value = rev_date\n",
    "        w_sheet.cell(w_row, w_header.index('rev_assoc') + 1).value = rev_assoc\n",
    "        w_sheet.cell(w_row, w_header.index('rev') + 1).value = rev\n",
    "        w_sheet.cell(w_row, w_header.index('rev_note') + 1).value = rev_note\n",
    "\n",
    "        # Fill tool_type. Different sections have different ways of judging.\n",
    "        if section_index == 0:\n",
    "            tool_type = 'ST Die'\n",
    "        elif section_index == 1:\n",
    "            tool_type = 'WE Hem Die'\n",
    "        elif section_index == 2:\n",
    "            if tool == 'Cavity' or tool == 'Core':\n",
    "                tool_type = 'Po mold'\n",
    "            elif tool == 'tooling':\n",
    "                tool_type = 'PO Tool'\n",
    "            else:\n",
    "                tool_type = ''\n",
    "        else:\n",
    "            # There are only three sections in each sheet.\n",
    "            raise NotImplementedError\n",
    "        w_sheet.cell(w_row, w_header.index('tool_type') + 1).value = tool_type\n",
    "\n",
    "        # fill tool_count\n",
    "        tool_count_a = get_cell_value(r_sheet, r_row, tool_count_coloum[0])\n",
    "        tool_count_b = get_cell_value(r_sheet, r_row, tool_count_coloum[1])\n",
    "        tool_count_a = 0 if tool_count_a == '' else tool_count_a\n",
    "        tool_count_b = 0 if tool_count_b == '' else tool_count_b\n",
    "        # change tool_count if job_family in 'Blank Die' or 'Fixtures' or 'Plates' or 'Jigs'\n",
    "        if 'Blank Die' in job_family:\n",
    "            tool_count = tool_count_b\n",
    "        elif 'Fixtures' in job_family or 'Plates'  in job_family or 'Jigs' in job_family:\n",
    "            tool_count = tool_count_a\n",
    "        else:\n",
    "            tool_count = max(tool_count_a, tool_count_b)\n",
    "        w_sheet.cell(w_row, w_header.index('tool_count') + 1).value = tool_count\n",
    "\n",
    "\n",
    "        job = get_cell_value(r_sheet, section_start_row[section_index], c)\n",
    "        w_sheet.cell(w_row, w_header.index('job') + 1).value = job\n",
    "        \n",
    "        job_descripition = get_cell_note(r_sheet, section_start_row[section_index], c)\n",
    "        w_sheet.cell(w_row, w_header.index('job_descripition') + 1).value = job_descripition\n",
    "\n",
    "        # get maker comment and judge part name and number\n",
    "        maker = get_cell_value(r_sheet, r_row, c)\n",
    "        w_sheet.cell(w_row, w_header.index('maker') + 1).value = maker\n",
    "        maker_comment = get_cell_note(r_sheet, r_row, c)\n",
    "\n",
    "        if \"common\" in maker_comment:\n",
    "            new_name = maker_comment.split(':')[1]\n",
    "            start_row = section_start_row[section_index]\n",
    "            end_row = section_end_row[section_index]\n",
    "            for i in range(start_row,end_row):\n",
    "                current_part_name = get_cell_value(r_sheet,i,part_name_coloum)\n",
    "                if current_part_name in new_name:\n",
    "                    new_part_number = get_cell_value(r_sheet,i,part_number_coloum)\n",
    "                    part_name = part_name + \" & \" + new_name\n",
    "                    part_number = str(part_number) + \" & \" + str(new_part_number)\n",
    "                    break\n",
    "        w_sheet.cell(w_row, w_header.index('part_name') + 1).value = part_name\n",
    "        w_sheet.cell(w_row, w_header.index('part_number') + 1).value = part_number\n",
    "        w_sheet.cell(w_row, w_header.index('maker_comment') + 1).value = maker_comment\n",
    "        w_row += 1\n",
    "    return w_row"
   ]
  },
  {
   "cell_type": "code",
   "execution_count": 13,
   "metadata": {},
   "outputs": [
    {
     "name": "stderr",
     "output_type": "stream",
     "text": [
      "C:\\Users\\Administrator\\anaconda3\\lib\\site-packages\\openpyxl\\reader\\excel.py:240: UserWarning: Cell '22-CIVIC-FMC-HMIN-4DR':I15 is part of a merged range but has a comment which will be removed because merged cells cannot contain any data.\n",
      "  warnings.warn(comment_warning.format(ws.title, c.coordinate))\n"
     ]
    }
   ],
   "source": [
    "rb = openpyxl.load_workbook(\"Copy of NM Responsibility (ST & PO) Rolling.xlsx\") # Input the name of the table to read"
   ]
  },
  {
   "cell_type": "code",
   "execution_count": 14,
   "metadata": {},
   "outputs": [],
   "source": [
    "w_sheet = rb[\"sample\"]"
   ]
  },
  {
   "cell_type": "code",
   "execution_count": 15,
   "metadata": {},
   "outputs": [],
   "source": [
    "w_header = []"
   ]
  },
  {
   "cell_type": "code",
   "execution_count": 16,
   "metadata": {},
   "outputs": [],
   "source": [
    "for cell in w_sheet['1']:\n",
    "    w_header.append(cell.value)"
   ]
  },
  {
   "cell_type": "code",
   "execution_count": 17,
   "metadata": {},
   "outputs": [],
   "source": [
    "# find sheet_name from sheet administrator\n",
    "w_sheet_names = rb[\"Administration\"]"
   ]
  },
  {
   "cell_type": "code",
   "execution_count": 18,
   "metadata": {},
   "outputs": [],
   "source": [
    "sheet_name = []"
   ]
  },
  {
   "cell_type": "code",
   "execution_count": 19,
   "metadata": {},
   "outputs": [],
   "source": [
    "for i in range(2, w_sheet_names.max_row + 1):\n",
    "    s_name = get_cell_value(w_sheet_names, i, 2)\n",
    "    s_name2 = w_sheet_names.cell(i, 2).value\n",
    "    if s_name != '':\n",
    "        sheet_name.append(s_name)"
   ]
  },
  {
   "cell_type": "code",
   "execution_count": 20,
   "metadata": {},
   "outputs": [],
   "source": [
    "w_row = 2"
   ]
  },
  {
   "cell_type": "code",
   "execution_count": 21,
   "metadata": {},
   "outputs": [
    {
     "name": "stdout",
     "output_type": "stream",
     "text": [
      "Now process sheet 0: 23-ACCORD-FMC-MAP-4DR\n",
      "Now process sheet 1: 22-CIVIC-FMC-HMIN-4DR\n",
      "Now process sheet 2: 22-CIVIC-FMC-HMIN-5DR\n"
     ]
    }
   ],
   "source": [
    "for sheet_index, sn in enumerate(sheet_name):\n",
    "    print(\"Now process sheet {}: {}\".format(sheet_index, sn))\n",
    "    r_sheet = rb[sn]\n",
    "\n",
    "    # get the section start-end row of this sheet\n",
    "    section_start_row = [9]\n",
    "    section_end_row = []\n",
    "\n",
    "    # Search for the beginning and end of each section based on the specified field\n",
    "    for i in range(1, r_sheet.max_row + 1):\n",
    "        cell_value = get_cell_value(r_sheet, i, 2)\n",
    "        if \"Stamping Total\" in cell_value:\n",
    "            section_start_row.append(i + 2)\n",
    "            section_end_row.append(i - 1)\n",
    "            continue\n",
    "        if \"Hemming Total\" in cell_value:\n",
    "            section_start_row.append(i + 2)\n",
    "            section_end_row.append(i - 1)\n",
    "            continue\n",
    "        if \"PO Total\" in cell_value:\n",
    "            section_end_row.append(i - 1)\n",
    "            break\n",
    "\n",
    "\n",
    "    # get seq and rev info column from every sheet\n",
    "    vehicle_seq_pos_l = 0\n",
    "    vehicle_dev_source_pos_l = 0\n",
    "    rev_pos_l = 0\n",
    "    rev_date_pos_l = 0\n",
    "    rev_assoc_pos_l = 0\n",
    "    for i in range(1, r_sheet.max_column + 1):\n",
    "        cell_value = get_cell_value(r_sheet, 4, i)\n",
    "        if \"Seq #\" in cell_value:\n",
    "            vehicle_seq_pos_l = i\n",
    "            continue\n",
    "        if \"development Location\" in cell_value:\n",
    "            vehicle_dev_source_pos_l = i\n",
    "            continue\n",
    "        if \"Rev #\" in cell_value:\n",
    "            rev_pos_l = i\n",
    "            continue\n",
    "        if \"Rev Date\" in cell_value:\n",
    "            rev_date_pos_l = i\n",
    "            continue\n",
    "        if \"REV associate\" in cell_value:\n",
    "            rev_assoc_pos_l = i\n",
    "            continue\n",
    "\n",
    "    vehicle_seq_pos = (6, vehicle_seq_pos_l)  # The (row, column) of `seq#`. Notice in openpyxl that the index starts at 1.\n",
    "    vehicle_dev_source_pos = (6, vehicle_dev_source_pos_l)  # The (row, column) of `Development Location`.\n",
    "    rev_pos = (6, rev_pos_l)  # The (row, column) of `Rev#``.\n",
    "    rev_date_pos = (6, rev_date_pos_l)  # The (row, column) of `Rev Date`.\n",
    "    rev_assoc_pos = (6, rev_assoc_pos_l)  # The (row, column) of `REV associate`.\n",
    "\n",
    "\n",
    "    # get values of some fields based on the name and attribution of the sheet\n",
    "    tokens = sn.split('-')\n",
    "    vehicle_my = tokens[0]\n",
    "    vehicle_name = tokens[1] + '-' + tokens[-1]\n",
    "    vehicle_prog_type = tokens[2]\n",
    "    vehicle_seq = get_cell_value(r_sheet, vehicle_seq_pos[0], vehicle_seq_pos[1]).split('_')[-1]\n",
    "    vehicle_dev_source = get_cell_value(r_sheet, vehicle_dev_source_pos[0], vehicle_dev_source_pos[1]).split('-')[0]\n",
    "    plant = tokens[-2]\n",
    "    rev = int(get_cell_value(r_sheet, rev_pos[0], rev_pos[1]))\n",
    "    date = get_cell_value(r_sheet, rev_date_pos[0], rev_date_pos[1])\n",
    "    rev_date = date.__format__('%Y/%m/%d')\n",
    "    rev_assoc = get_cell_value(r_sheet, rev_assoc_pos[0], rev_assoc_pos[1])\n",
    "    rev_note = None\n",
    "    # Locate to the newest 'Change Log'\n",
    "    for i in range(1, r_sheet.max_row + 1):\n",
    "        if get_cell_value(r_sheet, i, change_log_rev_coloum) == rev:\n",
    "            rev_note = get_cell_value(r_sheet, i, change_log_what_changed_coloum)\n",
    "\n",
    "    # Scan the sheet section by section.\n",
    "    for section_index in range(len(section_start_row)):\n",
    "        # Get the `job` field for each section.\n",
    "        r_header = []\n",
    "        for cell in r_sheet[str(section_start_row[section_index])]:\n",
    "            r_header.append(cell.value)\n",
    "        for idx in range(len(r_header)-1, 0, -1):\n",
    "            if r_header[idx] == '' or r_header[idx] is None:\n",
    "                r_header.pop()\n",
    "            else:\n",
    "                break\n",
    "        # Scan the section row by row.\n",
    "        for current_row in range(section_start_row[section_index] + 1, section_end_row[section_index]):\n",
    "            w_row = fill(current_row, w_row, r_sheet, r_header, w_sheet, w_header, section_index, section_start_row, section_end_row)"
   ]
  },
  {
   "cell_type": "code",
   "execution_count": 22,
   "metadata": {},
   "outputs": [],
   "source": [
    "result_file = \"result.xlsx\""
   ]
  },
  {
   "cell_type": "code",
   "execution_count": 23,
   "metadata": {},
   "outputs": [],
   "source": [
    "rb.save(result_file)"
   ]
  },
  {
   "cell_type": "code",
   "execution_count": 24,
   "metadata": {},
   "outputs": [
    {
     "name": "stdout",
     "output_type": "stream",
     "text": [
      "Please view the results you want in file result.xlsx: sheet sample!\n"
     ]
    }
   ],
   "source": [
    "print(\"Please view the results you want in file {}: sheet sample!\".format(result_file))"
   ]
  },
  {
   "cell_type": "code",
   "execution_count": null,
   "metadata": {},
   "outputs": [],
   "source": []
  }
 ],
 "metadata": {
  "kernelspec": {
   "display_name": "Python 3",
   "language": "python",
   "name": "python3"
  },
  "language_info": {
   "codemirror_mode": {
    "name": "ipython",
    "version": 3
   },
   "file_extension": ".py",
   "mimetype": "text/x-python",
   "name": "python",
   "nbconvert_exporter": "python",
   "pygments_lexer": "ipython3",
   "version": "3.7.3"
  }
 },
 "nbformat": 4,
 "nbformat_minor": 4
}
